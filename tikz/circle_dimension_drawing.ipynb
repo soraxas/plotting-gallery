{
 "cells": [
  {
   "cell_type": "markdown",
   "metadata": {},
   "source": [
    "# Demo of pytikz, a Python interface to Ti*k*Z"
   ]
  },
  {
   "cell_type": "markdown",
   "metadata": {},
   "source": [
    "The import package is called `tikz`. For interactive use, importing the contents into the current namespace is more convenient."
   ]
  },
  {
   "cell_type": "code",
   "execution_count": 1,
   "metadata": {
    "scrolled": false,
    "tags": []
   },
   "outputs": [
    {
     "data": {
      "text/plain": [
       "'($(0, 1)!(1, 2)!(1, 2)$)'"
      ]
     },
     "execution_count": 1,
     "metadata": {},
     "output_type": "execute_result"
    }
   ],
   "source": [
    "# %#load_ext autoreload\n",
    "# %#autoreload 2\n",
    "\n",
    "from itertools import chain\n",
    "import matplotlib.pyplot as plt\n",
    "\n",
    "import tikz\n",
    "from tikz import *\n",
    "\n",
    "\n",
    "def opts(*iterable, **kwargs):\n",
    "    return \",\".join(chain(iterable, (f\"{k}={v}\" for k, v in kwargs.items())))\n",
    "\n",
    "\n",
    "def coor_remove_bkt(text):\n",
    "    text = tikz._coordinate(text)\n",
    "    if isinstance(text, np.ndarray):\n",
    "        text = tuple(text)\n",
    "    text = str(text).strip()\n",
    "    if text[0] == \"(\" and text[-1] == \")\":\n",
    "        text = text[1:-1]\n",
    "    return text\n",
    "\n",
    "\n",
    "def from_some_distance_away(pt_origin, pt_ref, distance=\"5mm\", angle=-90):\n",
    "    return f\"(${pt_origin}!{distance}!{angle}:{pt_ref}$)\"\n",
    "\n",
    "\n",
    "def prepare_pic():\n",
    "    pic = Picture()\n",
    "    pic.usetikzlibrary(\"calc,shapes.geometric\")\n",
    "\n",
    "    # circle\n",
    "    pic.usetikzlibrary(\"angles,quotes\")\n",
    "\n",
    "    # pic = Picture(scale=3, line_cap=\"round\")\n",
    "    pic.usepackage(r\"tikz-dimline\")\n",
    "\n",
    "    pic.tikzset(\n",
    "        r\"\"\"dot/.style={circle,fill=blue,minimum size=3pt, inner sep=0pt},\n",
    "             square/.style={rectangle,fill=red,minimum size=4pt, inner sep=0pt,%    \n",
    "                        rotate=30,anchor=center},%\n",
    "            mytext/.style={anchor=north,text width=3cm,align=center}\"\"\"\n",
    "    )\n",
    "    return pic\n",
    "\n",
    "\n",
    "def dimline(content, pt1, pt2, extension_length=\"5mm\", opt=None, flip: bool = False):\n",
    "    if opt is None:\n",
    "        opt = []\n",
    "    opt.append(f\"extension start length={extension_length}\")\n",
    "    opt.append(f\"extension end length={extension_length}\")\n",
    "\n",
    "    flip_sign = -1 if flip else 1\n",
    "\n",
    "    dimline_pt1 = from_some_distance_away(pt1, pt2, angle=flip_sign * 90)\n",
    "    dimline_pt2 = from_some_distance_away(pt2, pt1, angle=flip_sign * (-90))\n",
    "\n",
    "    def wrap_b(text):\n",
    "        return \"{\" + str(text) + \"}\"\n",
    "\n",
    "    return rf\"\\dimline[{','.join(opt)}] {wrap_b(dimline_pt1)}{wrap_b(dimline_pt2)}{wrap_b(content)}\"\n",
    "\n",
    "\n",
    "def define_right_angle_drawing(pic):\n",
    "    # right angle drawing\n",
    "    pic.tikzset(\n",
    "        r\"\"\"\n",
    "        right angle quadrant/.code={\n",
    "            \\pgfmathsetmacro\\quadranta{{1,1,-1,-1}[#1-1]}     % Arrays for selecting quadrant\n",
    "            \\pgfmathsetmacro\\quadrantb{{1,-1,-1,1}[#1-1]}},\n",
    "        right angle quadrant=1, % Make sure it is set, even if not called explicitly\n",
    "        right angle length/.code={\\def\\rightanglelength{#1}},   % Length of symbol\n",
    "        right angle length=2ex, % Make sure it is set...\n",
    "        right angle symbol/.style n args={3}{\n",
    "            insert path={\n",
    "                let \\p0 = ($(#1)!(#3)!(#2)$),     % Intersection\n",
    "                    \\p1 = ($(\\p0)!\\quadranta*\\rightanglelength!(#3)$), % Point on base line\n",
    "                    \\p2 = ($(\\p0)!\\quadrantb*\\rightanglelength!(#2)$), % Point on perpendicular line\n",
    "                    \\p3 = ($(\\p1)+(\\p2)-(\\p0)$) in  % Corner point of symbol\n",
    "                (\\p1) -- (\\p3) -- (\\p2)\n",
    "            }\n",
    "        }\n",
    "        \"\"\"\n",
    "    )\n",
    "\n",
    "\n",
    "def draw_right_angle(pic, line_pt1, line_pt2, pt3, raq=2):\n",
    "    \"\"\"\n",
    "        \\ (line_pt1)\n",
    "         \\\n",
    "          \\\n",
    "     .     \\ (line_pt2)\n",
    "    (pt3)\n",
    "    \"\"\"\n",
    "    return pic.draw(\n",
    "        rf\"(${line_pt1}!{line_pt2}!{pt3}$)\",\n",
    "        opt=opts(\n",
    "            rf\"right angle quadrant={raq}\",\n",
    "            rf\"right angle length=2mm\",\n",
    "            rf\"right angle symbol=\"\n",
    "            rf\"{{{coor_remove_bkt(line_pt1)}}}\"\n",
    "            rf\"{{{coor_remove_bkt(line_pt2)}}}\"\n",
    "            rf\"{{{coor_remove_bkt(pt3)}}}\",\n",
    "        ),\n",
    "    )\n",
    "\n",
    "\n",
    "def pt_of_intersect(line_pt1, line_pt2, pt3):\n",
    "    return rf\"($({coor_remove_bkt(line_pt1)})!({coor_remove_bkt(line_pt2)})!({coor_remove_bkt(pt3)})$)\"\n",
    "\n",
    "\n",
    "pt_of_intersect((0, 1), (1, 2), np.array([1, 2]))"
   ]
  },
  {
   "cell_type": "markdown",
   "metadata": {},
   "source": [
    "## Using `Picture` objects to create graphics\n",
    "\n",
    "Example graphic from the manual, [Part I](https://pgf-tikz.github.io/pgf/pgfmanual.pdf#part.1)"
   ]
  },
  {
   "cell_type": "markdown",
   "metadata": {},
   "source": [
    "Creating a graphic always involves creating a `Picture` object and performing operations on it. Here, the `draw()` method accepts a path specification (determines what to draw) as well as options (determine how to draw)."
   ]
  },
  {
   "cell_type": "code",
   "execution_count": 2,
   "metadata": {
    "tags": []
   },
   "outputs": [],
   "source": [
    "# define coordinates as a list of tuples\n",
    "coords = [(0, 0), (0, 2), (1, 3.25), (2, 2), (2, 0), (0, 2), (2, 2), (0, 0), (2, 0)]\n",
    "\n",
    "# create `Picture` object\n",
    "pic = Picture()\n",
    "# draw a line following the coordinates\n",
    "pic.draw(line(coords), thick=True, rounded_corners=\"4pt\")"
   ]
  },
  {
   "cell_type": "markdown",
   "metadata": {},
   "source": [
    "Evaluating the `Picture` object in the notebook renders the graphic as a PNG and embeds it in the notebook."
   ]
  },
  {
   "cell_type": "code",
   "execution_count": 3,
   "metadata": {},
   "outputs": [
    {
     "data": {
      "image/png": "[encoded data removed]",
      "image/svg+xml": [
       "<svg xmlns=\"http://www.w3.org/2000/svg\" xmlns:xlink=\"http://www.w3.org/1999/xlink\" version=\"1.1\" width=\"57.49pt\" height=\"92.92pt\" viewBox=\"0 0 57.49 92.92\">\n",
       "<path transform=\"matrix(1,0,0,-1,.39900209,92.520999)\" stroke-width=\".79701\" stroke-linecap=\"butt\" stroke-miterlimit=\"10\" stroke-linejoin=\"miter\" fill=\"none\" stroke=\"#000000\" d=\"M0 0V52.70851C0 54.90945 1.11452 58.08673 2.48935 59.80527L25.85745 89.01546C27.23228 90.734 29.46132 90.734 30.83615 89.01546L54.20425 59.80527C55.5791 58.08673 56.69362 54.90945 56.69362 52.70851V3.9851C56.69362 1.78416 55.43202 1.2616 53.87572 2.81789L2.81789 53.87572C1.2616 55.43202 1.78416 56.69362 3.9851 56.69362H52.70851C54.90945 56.69362 55.43202 55.43202 53.87572 53.87572L2.81789 2.81789C1.2616 1.2616 1.78416 0 3.9851 0H56.69362\"/>\n",
       "</svg>\n"
      ],
      "text/plain": [
       "<tikz.Picture at 0x7fb394292670>"
      ]
     },
     "execution_count": 3,
     "metadata": {},
     "output_type": "execute_result"
    }
   ],
   "source": [
    "pic"
   ]
  },
  {
   "cell_type": "markdown",
   "metadata": {},
   "source": [
    "The method `code()` returns the LaTeX/TikZ code of the `Picture` object, which is a `tikzpicture` environment. The same method is present on all objects that represent parts of the graphics. Notice how the structure of the Python code mimics that of the TikZ code."
   ]
  },
  {
   "cell_type": "code",
   "execution_count": 4,
   "metadata": {
    "tags": []
   },
   "outputs": [
    {
     "name": "stdout",
     "output_type": "stream",
     "text": [
      "\\begin{tikzpicture}\n",
      "\\draw[thick,rounded corners=4pt] (0,0) -- (0,2) -- (1,3.25) -- (2,2) -- (2,0) -- (0,2) -- (2,2) -- (0,0) -- (2,0);\n",
      "\\end{tikzpicture}\n"
     ]
    }
   ],
   "source": [
    "print(pic.code())"
   ]
  },
  {
   "cell_type": "markdown",
   "metadata": {},
   "source": [
    "The method `demo()` of a `Picture` object shows both the rendered graphic and the underlying code in the notebook. It takes an optional argument `dpi` to specify the rendering resolution. It is intended to be used during development and debugging of a picture."
   ]
  },
  {
   "cell_type": "code",
   "execution_count": 5,
   "metadata": {
    "tags": []
   },
   "outputs": [
    {
     "data": {
      "text/html": [
       "<div style=\"background-color:#e0e0e0;margin:0\">\n",
       "  <div>\n",
       "    <div style=\"padding:10px;float:left\">      <img src=\"data:image/png;base64,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\">\n",
       "    </div>\n",
       "    <pre\n",
       "        style=\"width:47%;margin:0;padding:10px;float:right;white-space:pre-wrap;font-size:smaller\"\n",
       "        >\\begin{tikzpicture}\n",
       "\\draw[thick,rounded corners=4pt] (0,0) -- (0,2) -- (1,3.25) -- (2,2) -- (2,0) -- (0,2) -- (2,2) -- (0,0) -- (2,0);\n",
       "\\end{tikzpicture}</pre>\n",
       "  </div>\n",
       "  <div style=\"clear:both\"></div>\n",
       "</div>"
      ],
      "text/plain": [
       "<IPython.core.display.HTML object>"
      ]
     },
     "metadata": {},
     "output_type": "display_data"
    }
   ],
   "source": [
    "pic.demo(dpi=300)"
   ]
  },
  {
   "cell_type": "markdown",
   "metadata": {},
   "source": [
    "The method `document_code()` of a `Picture` object returns the complete LaTeX/TikZ code used to render the graphic. When a graphic is rendered, internally this code is written to a temporary file and compiled with (pdf/Xe/Lua) LaTeX. The resulting PDF is read and can be either saved (using the method `write_image()`) or rastered for display in the notebook. A rastered version can also be saved."
   ]
  },
  {
   "cell_type": "markdown",
   "metadata": {},
   "source": [
    "## A picture for Karl's students\n",
    "\n",
    "Based on the code developed in the first tutorial of the manual, [§2](https://pgf-tikz.github.io/pgf/pgfmanual.pdf#section.2)."
   ]
  },
  {
   "cell_type": "code",
   "execution_count": 6,
   "metadata": {},
   "outputs": [
    {
     "data": {
      "text/html": [
       "<div style=\"background-color:#e0e0e0;margin:0\">\n",
       "  <div>\n",
       "    <div style=\"padding:10px;float:left\">      <img src=\"data:image/png;base64,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\">\n",
       "    </div>\n",
       "    <pre\n",
       "        style=\"width:47%;margin:0;padding:10px;float:right;white-space:pre-wrap;font-size:smaller\"\n",
       "        >\\begin{tikzpicture}[scale=3,line cap=round]\n",
       "\\tikzset{important line/.style={very thick}}\n",
       "\\colorlet{anglecolor}{green!50!black}\n",
       "\\colorlet{sincolor}{red}\n",
       "\\colorlet{coscolor}{blue}\n",
       "\\colorlet{tancolor}{orange!80!black}\n",
       "\\draw[help lines,very thin] (-1.4,-1.4) grid[step=0.5cm] (1.4,1.4);\n",
       "\\draw (0,0) circle[radius=1];\n",
       "\\end{tikzpicture}</pre>\n",
       "  </div>\n",
       "  <div style=\"clear:both\"></div>\n",
       "</div>"
      ],
      "text/plain": [
       "<IPython.core.display.HTML object>"
      ]
     },
     "metadata": {},
     "output_type": "display_data"
    }
   ],
   "source": [
    "pic = Picture(scale=3, line_cap=\"round\")\n",
    "\n",
    "## define styles\n",
    "pic.style(\"important line\", very_thick=True)\n",
    "\n",
    "# define colors\n",
    "pic.colorlet(\"anglecolor\", \"green!50!black\")\n",
    "pic.colorlet(\"sincolor\", \"red\")\n",
    "pic.colorlet(\"coscolor\", \"blue\")\n",
    "pic.colorlet(\"tancolor\", \"orange!80!black\")\n",
    "\n",
    "# background grid\n",
    "pic.draw((-1.4, -1.4), grid((1.4, 1.4), step=\"0.5cm\"), help_lines=True, very_thin=True)\n",
    "\n",
    "# circle\n",
    "pic.draw((0, 0), circle(radius=1))\n",
    "\n",
    "pic.demo(dpi=110)"
   ]
  },
  {
   "cell_type": "code",
   "execution_count": 7,
   "metadata": {},
   "outputs": [
    {
     "data": {
      "text/html": [
       "<div style=\"background-color:#e0e0e0;margin:0\">\n",
       "  <div>\n",
       "    <div style=\"padding:10px;float:left\">      <img src=\"data:image/png;base64,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\">\n",
       "    </div>\n",
       "    <pre\n",
       "        style=\"width:47%;margin:0;padding:10px;float:right;white-space:pre-wrap;font-size:smaller\"\n",
       "        >\\begin{tikzpicture}[scale=3,line cap=round]\n",
       "\\tikzset{important line/.style={very thick}}\n",
       "\\colorlet{anglecolor}{green!50!black}\n",
       "\\colorlet{sincolor}{red}\n",
       "\\colorlet{coscolor}{blue}\n",
       "\\colorlet{tancolor}{orange!80!black}\n",
       "\\draw[help lines,very thin] (-1.4,-1.4) grid[step=0.5cm] (1.4,1.4);\n",
       "\\draw (0,0) circle[radius=1];\n",
       "\\begin{scope}\n",
       "\\draw[-&gt;] (-1.5,0) -- (1.5,0) node[right] {$x$} coordinate (x axis);\n",
       "\\draw[-&gt;] (0,-1.5) -- (0,1.5) node[above] {$y$} coordinate (y axis);\n",
       "\\draw[xshift=-1 cm] (0pt,1pt) -- (0pt,-1pt) node[below,fill=white] {$-1$};\n",
       "\\draw[xshift=-0.5 cm] (0pt,1pt) -- (0pt,-1pt) node[below,fill=white] {$-0.5$};\n",
       "\\draw[xshift=0 cm] (0pt,1pt) -- (0pt,-1pt) node[below,fill=white] {$0$};\n",
       "\\draw[xshift=0.5 cm] (0pt,1pt) -- (0pt,-1pt) node[below,fill=white] {$0.5$};\n",
       "\\draw[xshift=1 cm] (0pt,1pt) -- (0pt,-1pt) node[below,fill=white] {$1$};\n",
       "\\draw[yshift=-1 cm] (1pt,0pt) -- (-1pt,0pt) node[left,fill=white] {$-1$};\n",
       "\\draw[yshift=-0.5 cm] (1pt,0pt) -- (-1pt,0pt) node[left,fill=white] {$-0.5$};\n",
       "\\draw[yshift=0 cm] (1pt,0pt) -- (-1pt,0pt) node[left,fill=white] {$0$};\n",
       "\\draw[yshift=0.5 cm] (1pt,0pt) -- (-1pt,0pt) node[left,fill=white] {$0.5$};\n",
       "\\draw[yshift=1 cm] (1pt,0pt) -- (-1pt,0pt) node[left,fill=white] {$1$};\n",
       "\\end{scope}\n",
       "\\end{tikzpicture}</pre>\n",
       "  </div>\n",
       "  <div style=\"clear:both\"></div>\n",
       "</div>"
      ],
      "text/plain": [
       "<IPython.core.display.HTML object>"
      ]
     },
     "metadata": {},
     "output_type": "display_data"
    }
   ],
   "source": [
    "# `scope` environment to contain the axes code\n",
    "scope = pic.scope()\n",
    "\n",
    "# horizontal axis and label\n",
    "scope.draw(\n",
    "    (-1.5, 0),\n",
    "    lineto((1.5, 0)),\n",
    "    node(\"$x$\", right=True),\n",
    "    coordinate(name=\"x axis\"),\n",
    "    opt=\"->\",\n",
    ")\n",
    "\n",
    "# vertical axis and label\n",
    "scope.draw(\n",
    "    (0, -1.5),\n",
    "    lineto((0, 1.5)),\n",
    "    node(\"$y$\", above=True),\n",
    "    coordinate(name=\"y axis\"),\n",
    "    opt=\"->\",\n",
    ")\n",
    "\n",
    "# ticks and tick labels on horizontal axis\n",
    "for x in [-1, -0.5, 0, 0.5, 1]:\n",
    "    scope.draw(\n",
    "        \"(0pt,1pt)\",\n",
    "        lineto(\"(0pt,-1pt)\"),\n",
    "        node(f\"${x}$\", below=True, fill=\"white\"),\n",
    "        xshift=f\"{x} cm\",\n",
    "    )\n",
    "\n",
    "# ticks and tick labels on vertical axis\n",
    "for y in [-1, -0.5, 0, 0.5, 1]:\n",
    "    scope.draw(\n",
    "        \"(1pt,0pt)\",\n",
    "        lineto(\"(-1pt,0pt)\"),\n",
    "        node(f\"${y}$\", left=True, fill=\"white\"),\n",
    "        yshift=f\"{y} cm\",\n",
    "    )\n",
    "\n",
    "pic.demo(dpi=110)"
   ]
  },
  {
   "cell_type": "code",
   "execution_count": 8,
   "metadata": {
    "tags": []
   },
   "outputs": [
    {
     "data": {
      "text/html": [
       "<div style=\"background-color:#e0e0e0;margin:0\">\n",
       "  <div>\n",
       "    <div style=\"padding:10px;float:left\">      <img src=\"data:image/png;base64,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\">\n",
       "    </div>\n",
       "    <pre\n",
       "        style=\"width:47%;margin:0;padding:10px;float:right;white-space:pre-wrap;font-size:smaller\"\n",
       "        >\\begin{tikzpicture}[scale=3,line cap=round]\n",
       "\\tikzset{important line/.style={very thick}}\n",
       "\\colorlet{anglecolor}{green!50!black}\n",
       "\\colorlet{sincolor}{red}\n",
       "\\colorlet{coscolor}{blue}\n",
       "\\colorlet{tancolor}{orange!80!black}\n",
       "\\draw[help lines,very thin] (-1.4,-1.4) grid[step=0.5cm] (1.4,1.4);\n",
       "\\draw (0,0) circle[radius=1];\n",
       "\\begin{scope}\n",
       "\\draw[-&gt;] (-1.5,0) -- (1.5,0) node[right] {$x$} coordinate (x axis);\n",
       "\\draw[-&gt;] (0,-1.5) -- (0,1.5) node[above] {$y$} coordinate (y axis);\n",
       "\\draw[xshift=-1 cm] (0pt,1pt) -- (0pt,-1pt) node[below,fill=white] {$-1$};\n",
       "\\draw[xshift=-0.5 cm] (0pt,1pt) -- (0pt,-1pt) node[below,fill=white] {$-0.5$};\n",
       "\\draw[xshift=0 cm] (0pt,1pt) -- (0pt,-1pt) node[below,fill=white] {$0$};\n",
       "\\draw[xshift=0.5 cm] (0pt,1pt) -- (0pt,-1pt) node[below,fill=white] {$0.5$};\n",
       "\\draw[xshift=1 cm] (0pt,1pt) -- (0pt,-1pt) node[below,fill=white] {$1$};\n",
       "\\draw[yshift=-1 cm] (1pt,0pt) -- (-1pt,0pt) node[left,fill=white] {$-1$};\n",
       "\\draw[yshift=-0.5 cm] (1pt,0pt) -- (-1pt,0pt) node[left,fill=white] {$-0.5$};\n",
       "\\draw[yshift=0 cm] (1pt,0pt) -- (-1pt,0pt) node[left,fill=white] {$0$};\n",
       "\\draw[yshift=0.5 cm] (1pt,0pt) -- (-1pt,0pt) node[left,fill=white] {$0.5$};\n",
       "\\draw[yshift=1 cm] (1pt,0pt) -- (-1pt,0pt) node[left,fill=white] {$1$};\n",
       "\\end{scope}\n",
       "\\path[fill=green!20,draw=anglecolor] (0,0) -- (3mm,0mm) arc[start angle=0,end angle=30,radius=3mm] --cycle;\n",
       "\\draw (15:2mm) node[anglecolor] {$\\alpha$};\n",
       "\\draw[important line,sincolor] (30:1cm) -- (30:1cm |- x axis) node[left=1pt,fill=white,pos=0.5] {$\\sin \\alpha$};\n",
       "\\draw[important line,coscolor] (30:1cm |- x axis) -- (0,0) node[below=2pt,fill=white,pos=0.5] {$\\cos \\alpha$};\n",
       "\\end{tikzpicture}</pre>\n",
       "  </div>\n",
       "  <div style=\"clear:both\"></div>\n",
       "</div>"
      ],
      "text/plain": [
       "<IPython.core.display.HTML object>"
      ]
     },
     "metadata": {},
     "output_type": "display_data"
    }
   ],
   "source": [
    "# angle of 30 degrees\n",
    "pic.path(\n",
    "    (0, 0),\n",
    "    lineto(\"(3mm,0mm)\"),\n",
    "    arc(start_angle=0, end_angle=30, radius=\"3mm\"),\n",
    "    \"--cycle\",\n",
    "    fill=\"green!20\",\n",
    "    draw=\"anglecolor\",\n",
    ")\n",
    "# label for angle\n",
    "pic.draw(\"(15:2mm)\", node(r\"$\\alpha$\", anglecolor=True))\n",
    "\n",
    "# sine line and label\n",
    "pic.draw(\n",
    "    \"(30:1cm)\",\n",
    "    lineto(\"(30:1cm |- x axis)\"),\n",
    "    node(r\"$\\sin \\alpha$\", left=\"1pt\", fill=\"white\", pos=0.5),\n",
    "    important_line=True,\n",
    "    sincolor=True,\n",
    ")\n",
    "\n",
    "# cosine line and label\n",
    "pic.draw(\n",
    "    \"(30:1cm |- x axis)\",\n",
    "    lineto((0, 0)),\n",
    "    node(r\"$\\cos \\alpha$\", below=\"2pt\", fill=\"white\", pos=0.5),\n",
    "    important_line=True,\n",
    "    coscolor=True,\n",
    ")\n",
    "\n",
    "pic.demo(dpi=110)"
   ]
  },
  {
   "cell_type": "code",
   "execution_count": 9,
   "metadata": {
    "tags": []
   },
   "outputs": [
    {
     "data": {
      "text/html": [
       "<div style=\"background-color:#e0e0e0;margin:0\">\n",
       "  <div>\n",
       "    <div style=\"padding:10px;float:left\">      <img src=\"data:image/png;base64,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\">\n",
       "    </div>\n",
       "    <pre\n",
       "        style=\"width:47%;margin:0;padding:10px;float:right;white-space:pre-wrap;font-size:smaller\"\n",
       "        >\\begin{tikzpicture}[scale=3,line cap=round]\n",
       "\\tikzset{important line/.style={very thick}}\n",
       "\\colorlet{anglecolor}{green!50!black}\n",
       "\\colorlet{sincolor}{red}\n",
       "\\colorlet{coscolor}{blue}\n",
       "\\colorlet{tancolor}{orange!80!black}\n",
       "\\draw[help lines,very thin] (-1.4,-1.4) grid[step=0.5cm] (1.4,1.4);\n",
       "\\draw (0,0) circle[radius=1];\n",
       "\\begin{scope}\n",
       "\\draw[-&gt;] (-1.5,0) -- (1.5,0) node[right] {$x$} coordinate (x axis);\n",
       "\\draw[-&gt;] (0,-1.5) -- (0,1.5) node[above] {$y$} coordinate (y axis);\n",
       "\\draw[xshift=-1 cm] (0pt,1pt) -- (0pt,-1pt) node[below,fill=white] {$-1$};\n",
       "\\draw[xshift=-0.5 cm] (0pt,1pt) -- (0pt,-1pt) node[below,fill=white] {$-0.5$};\n",
       "\\draw[xshift=0 cm] (0pt,1pt) -- (0pt,-1pt) node[below,fill=white] {$0$};\n",
       "\\draw[xshift=0.5 cm] (0pt,1pt) -- (0pt,-1pt) node[below,fill=white] {$0.5$};\n",
       "\\draw[xshift=1 cm] (0pt,1pt) -- (0pt,-1pt) node[below,fill=white] {$1$};\n",
       "\\draw[yshift=-1 cm] (1pt,0pt) -- (-1pt,0pt) node[left,fill=white] {$-1$};\n",
       "\\draw[yshift=-0.5 cm] (1pt,0pt) -- (-1pt,0pt) node[left,fill=white] {$-0.5$};\n",
       "\\draw[yshift=0 cm] (1pt,0pt) -- (-1pt,0pt) node[left,fill=white] {$0$};\n",
       "\\draw[yshift=0.5 cm] (1pt,0pt) -- (-1pt,0pt) node[left,fill=white] {$0.5$};\n",
       "\\draw[yshift=1 cm] (1pt,0pt) -- (-1pt,0pt) node[left,fill=white] {$1$};\n",
       "\\end{scope}\n",
       "\\path[fill=green!20,draw=anglecolor] (0,0) -- (3mm,0mm) arc[start angle=0,end angle=30,radius=3mm] --cycle;\n",
       "\\draw (15:2mm) node[anglecolor] {$\\alpha$};\n",
       "\\draw[important line,sincolor] (30:1cm) -- (30:1cm |- x axis) node[left=1pt,fill=white,pos=0.5] {$\\sin \\alpha$};\n",
       "\\draw[important line,coscolor] (30:1cm |- x axis) -- (0,0) node[below=2pt,fill=white,pos=0.5] {$\\cos \\alpha$};\n",
       "\\path[name path=upward line] (1,0) -- (1,1);\n",
       "\\path[name path=sloped line] (0,0) -- (30:1.5);\n",
       "\\draw[name intersections={of=upward line and sloped line, by=t}] ;\n",
       "\\draw[tancolor,very thick] (1,0) -- (t) node[right=1pt,fill=white,pos=0.5] {$\n",
       "            \\displaystyle\n",
       "            \\tan \\alpha\n",
       "            \\color{black} = \\frac{\n",
       "                \\color{red} \\sin \\alpha}{\n",
       "                \\color{blue} \\cos \\alpha}\n",
       "            $};\n",
       "\\draw (0,0) -- (t);\n",
       "\\end{tikzpicture}</pre>\n",
       "  </div>\n",
       "  <div style=\"clear:both\"></div>\n",
       "</div>"
      ],
      "text/plain": [
       "<IPython.core.display.HTML object>"
      ]
     },
     "metadata": {},
     "output_type": "display_data"
    }
   ],
   "source": [
    "# To determine the top of the tangent line, the intersection of a line at 30 degrees from the origin with a line upwards from (1, 0) is determined\n",
    "pic.usetikzlibrary(\"intersections\")\n",
    "pic.path((1, 0), lineto((1, 1)), name_path=\"upward line\")\n",
    "pic.path((0, 0), lineto(\"(30:1.5)\"), name_path=\"sloped line\")\n",
    "pic.draw(name_intersections=\"{of=upward line and sloped line, by=t}\")\n",
    "\n",
    "# tangent line and label\n",
    "pic.draw(\n",
    "    (1, 0),\n",
    "    lineto(\"(t)\"),\n",
    "    node(\n",
    "        r\"\"\"$\n",
    "            \\displaystyle\n",
    "            \\tan \\alpha\n",
    "            \\color{black} = \\frac{\n",
    "                \\color{red} \\sin \\alpha}{\n",
    "                \\color{blue} \\cos \\alpha}\n",
    "            $\"\"\",\n",
    "        right=\"1pt\",\n",
    "        fill=\"white\",\n",
    "        pos=0.5,\n",
    "    ),\n",
    "    tancolor=True,\n",
    "    very_thick=True,\n",
    ")\n",
    "\n",
    "# line from the origin to the top of the tangent line\n",
    "pic.draw((0, 0), lineto(\"(t)\"))\n",
    "\n",
    "pic.demo(dpi=110)"
   ]
  },
  {
   "cell_type": "code",
   "execution_count": null,
   "metadata": {},
   "outputs": [],
   "source": [
    "pic"
   ]
  }
 ],
 "metadata": {
  "kernelspec": {
   "display_name": "Python 3 (ipykernel)",
   "language": "python",
   "name": "python3"
  },
  "language_info": {
   "codemirror_mode": {
    "name": "ipython",
    "version": 3
   },
   "file_extension": ".py",
   "mimetype": "text/x-python",
   "name": "python",
   "nbconvert_exporter": "python",
   "pygments_lexer": "ipython3",
   "version": "3.9.16"
  }
 },
 "nbformat": 4,
 "nbformat_minor": 2
}
